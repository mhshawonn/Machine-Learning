{
 "cells": [
  {
   "cell_type": "code",
   "execution_count": 2,
   "id": "a0a4796c",
   "metadata": {},
   "outputs": [],
   "source": [
    "import numpy as np \n",
    "import pandas as pd    \n",
    "import matplotlib.pyplot as plt                       \n",
    "import seaborn as sns   \n",
    "from sklearn.model_selection import train_test_split\n",
    "from sklearn.linear_model import LinearRegression\n",
    "from sklearn.metrics import r2_score\n"
   ]
  },
  {
   "cell_type": "code",
   "execution_count": 8,
   "id": "dadfc1ce",
   "metadata": {},
   "outputs": [],
   "source": [
    "data=pd.read_csv('mobile_prices.csv')\n",
    "data=pd.DataFrame(data)\n",
    "data\n",
    "\n",
    "x_train,x_test,y_train,y_test=train_test_split(data[['ram','rom','display_size','camera_mp']], data['price'], test_size=0.2, random_state=2)\n",
    "\n"
   ]
  },
  {
   "cell_type": "code",
   "execution_count": 9,
   "id": "50acfcb2",
   "metadata": {},
   "outputs": [],
   "source": [
    "model=LinearRegression()\n",
    "model.fit(x_train, y_train)\n",
    "\n",
    "y_predict=model.predict(x_test)\n",
    "R2_score=r2_score(y_test, y_predict)\n"
   ]
  },
  {
   "cell_type": "code",
   "execution_count": 10,
   "id": "1cd05a02",
   "metadata": {},
   "outputs": [
    {
     "name": "stdout",
     "output_type": "stream",
     "text": [
      "coefficients: [ 1940.46661762   107.04472652 -2181.02224811   161.0276193 ]\n"
     ]
    }
   ],
   "source": [
    "print('coefficients:', model.coef_)"
   ]
  },
  {
   "cell_type": "code",
   "execution_count": 11,
   "id": "db241e1e",
   "metadata": {},
   "outputs": [
    {
     "name": "stdout",
     "output_type": "stream",
     "text": [
      "intercept: 12153.27992735262\n"
     ]
    }
   ],
   "source": [
    "print('intercept:', model.intercept_)\n"
   ]
  },
  {
   "cell_type": "code",
   "execution_count": 12,
   "id": "fed8e343",
   "metadata": {},
   "outputs": [
    {
     "name": "stdout",
     "output_type": "stream",
     "text": [
      "r2 score : 0.9462072218835712\n"
     ]
    }
   ],
   "source": [
    "print('r2 score :', R2_score)\n"
   ]
  },
  {
   "cell_type": "code",
   "execution_count": 17,
   "id": "61662aab",
   "metadata": {},
   "outputs": [
    {
     "data": {
      "text/plain": [
       "array([19919.14832563, 34931.41897655, 20127.05435322])"
      ]
     },
     "execution_count": 17,
     "metadata": {},
     "output_type": "execute_result"
    }
   ],
   "source": [
    "y_predict"
   ]
  },
  {
   "cell_type": "markdown",
   "id": "9f83e879",
   "metadata": {},
   "source": [
    "code in own way. Same work do creation own code "
   ]
  },
  {
   "cell_type": "code",
   "execution_count": null,
   "id": "f49dec01",
   "metadata": {},
   "outputs": [],
   "source": [
    "class multi_var_ole:\n",
    "    def __init__(self):\n",
    "        self.coef_=None\n",
    "        self.intercept_=None\n",
    "\n",
    "    def fit(self, x_train, y_train):\n",
    "        x_train=np.insert(x_train,0,1,axis=1)\n",
    "        beta=np.linalg.inv(np.dot(x_train.T, x_train )).dot(x_train.T).dot(y_train)\n",
    "        self.coef_=beta[1:]\n",
    "        self.intercept_=beta[0]\n",
    "        print('coefficients:', self.coef_)\n",
    "        print('intercept:', self.intercept_)\n",
    "\n",
    "    def predict(self, x_test):\n",
    "        y_predict=np.dot(x_test,self.coef_)+self.intercept_\n",
    "        return y_predict"
   ]
  },
  {
   "cell_type": "code",
   "execution_count": 26,
   "id": "b2dafa03",
   "metadata": {},
   "outputs": [
    {
     "name": "stdout",
     "output_type": "stream",
     "text": [
      "coefficients: [ 1940.46661762   107.04472652 -2181.02224812   161.0276193 ]\n"
     ]
    },
    {
     "data": {
      "text/plain": [
       "array([19919.14832562, 34931.41897655, 20127.05435321])"
      ]
     },
     "execution_count": 26,
     "metadata": {},
     "output_type": "execute_result"
    }
   ],
   "source": [
    "obj=multi_var_ole()\n",
    "obj.fit(x_train, y_train)\n",
    "pred=obj.predict(x_test)\n",
    "pred"
   ]
  },
  {
   "cell_type": "code",
   "execution_count": 27,
   "id": "59405482",
   "metadata": {},
   "outputs": [
    {
     "name": "stdout",
     "output_type": "stream",
     "text": [
      "12153.279927345939\n"
     ]
    }
   ],
   "source": [
    "print(obj.intercept_)"
   ]
  }
 ],
 "metadata": {
  "kernelspec": {
   "display_name": "base",
   "language": "python",
   "name": "python3"
  },
  "language_info": {
   "codemirror_mode": {
    "name": "ipython",
    "version": 3
   },
   "file_extension": ".py",
   "mimetype": "text/x-python",
   "name": "python",
   "nbconvert_exporter": "python",
   "pygments_lexer": "ipython3",
   "version": "3.12.7"
  }
 },
 "nbformat": 4,
 "nbformat_minor": 5
}
